{
 "cells": [
  {
   "cell_type": "code",
   "execution_count": 1,
   "id": "d4ce2b0f",
   "metadata": {},
   "outputs": [],
   "source": [
    "import jax\n",
    "import jax.numpy as jnp\n",
    "import numpy as np\n",
    "import hj_reachability as hj"
   ]
  },
  {
   "cell_type": "code",
   "execution_count": 2,
   "id": "db3015f7",
   "metadata": {},
   "outputs": [],
   "source": [
    "from hj_reachability import dynamics\n",
    "from hj_reachability import sets\n",
    "\n",
    "class Drone2D(dynamics.ControlAndDisturbanceAffineDynamics):\n",
    "\n",
    "  def __init__(self,\n",
    "               k,\n",
    "               g=9.8,\n",
    "               u_bar=1.):\n",
    "    self.k = k\n",
    "    self.g = g\n",
    "    control_mode = 'max'\n",
    "    disturbance_mode = 'min'\n",
    "    control_space = sets.Box(jnp.array([-u_bar]), jnp.array([u_bar]))\n",
    "    disturbance_space = sets.Box(jnp.array([0.]), jnp.array([0.]))\n",
    "    super().__init__(control_mode, disturbance_mode, control_space, disturbance_space)\n",
    "\n",
    "  def open_loop_dynamics(self, state, time):\n",
    "    _, v = state\n",
    "    return jnp.array([v, -self.g])\n",
    "\n",
    "  def control_jacobian(self, state, time):\n",
    "    return jnp.array([[0.], [self.k]])\n",
    "\n",
    "  def disturbance_jacobian(self, state, time):\n",
    "    return jnp.array([[0.], [0.]])"
   ]
  },
  {
   "cell_type": "code",
   "execution_count": 4,
   "id": "b563bd7c",
   "metadata": {},
   "outputs": [
    {
     "name": "stderr",
     "output_type": "stream",
     "text": [
      "WARNING:2025-05-31 12:12:36,925:jax._src.xla_bridge:791: An NVIDIA GPU may be present on this machine, but a CUDA-enabled jaxlib is not installed. Falling back to cpu.\n"
     ]
    }
   ],
   "source": [
    "# Different values of constant K that we will compute the value function for\n",
    "ks = np.linspace(6, 12, 11, endpoint=True)\n",
    "\n",
    "# Define the computation grid for numerically solving the PDE\n",
    "grid = hj.Grid.from_lattice_parameters_and_boundary_conditions(\n",
    "    hj.sets.Box(np.array([-2., -4.]),\n",
    "                np.array([+2., +4.])),\n",
    "    (51, 51))\n",
    "\n",
    "# Define the implicit function l(x) for the failure set\n",
    "failure_values = 1.5 - jnp.abs(grid.states[..., 0])\n",
    "\n",
    "# Solver settings\n",
    "times = np.linspace(0, -5, 11, endpoint=True)\n",
    "solver_settings = hj.SolverSettings.with_accuracy('very_high',\n",
    "                                                  hamiltonian_postprocessor=hj.solver.backwards_reachable_tube)"
   ]
  },
  {
   "cell_type": "code",
   "execution_count": 5,
   "id": "a736dba2",
   "metadata": {},
   "outputs": [
    {
     "name": "stderr",
     "output_type": "stream",
     "text": [
      "0it [00:00, ?it/s]"
     ]
    },
    {
     "name": "stderr",
     "output_type": "stream",
     "text": [
      "100%|##########|  5.0000/5.0 [00:00<00:00,  8.81sim_s/s]\n",
      "100%|##########|  5.0000/5.0 [00:00<00:00,  8.78sim_s/s]\n",
      "100%|##########|  5.0000/5.0 [00:00<00:00,  8.58sim_s/s]\n",
      "100%|##########|  5.0000/5.0 [00:00<00:00,  8.37sim_s/s]\n",
      "100%|##########|  5.0000/5.0 [00:00<00:00,  8.09sim_s/s]\n",
      "100%|##########|  5.0000/5.0 [00:00<00:00,  8.02sim_s/s]\n",
      "100%|##########|  5.0000/5.0 [00:00<00:00,  7.78sim_s/s]\n",
      "100%|##########|  5.0000/5.0 [00:00<00:00,  7.64sim_s/s]\n",
      "100%|##########|  5.0000/5.0 [00:00<00:00,  7.51sim_s/s]\n",
      "100%|##########|  5.0000/5.0 [00:00<00:00,  7.06sim_s/s]\n",
      "100%|##########|  5.0000/5.0 [00:00<00:00,  7.17sim_s/s]\n",
      "11it [00:12,  1.12s/it]\n"
     ]
    }
   ],
   "source": [
    "# Compute the value function by solving the PDE for each K\n",
    "values = np.full((len(ks), len(times), 51, 51), fill_value=np.nan)\n",
    "\n",
    "from tqdm import tqdm\n",
    "for i, k in tqdm(enumerate(ks)):\n",
    "  dynamics = Drone2D(k)\n",
    "  values[i] = hj.solve(solver_settings, dynamics, grid, times, failure_values)"
   ]
  },
  {
   "cell_type": "code",
   "execution_count": null,
   "id": "d2c9e2d6",
   "metadata": {},
   "outputs": [],
   "source": [
    "import matplotlib.pyplot as plt\n",
    "from ipywidgets import interact, FloatSlider\n",
    "\n",
    "vbar = 1.5\n",
    "def plot_value_function(k, t):\n",
    "  ki = np.argwhere(np.isclose(ks, k)).item()\n",
    "  ti = np.argwhere(np.isclose(times, t)).item()\n",
    "\n",
    "  plt.figure()\n",
    "  plt.title(f'$V(x, {t})$ for k={k}')\n",
    "  plt.xlabel('$v_z$ (m/s)')\n",
    "  plt.ylabel('$z$ (m)')\n",
    "\n",
    "  plt.pcolormesh(\n",
    "      grid.coordinate_vectors[1],\n",
    "      grid.coordinate_vectors[0],\n",
    "      values[ki, ti],\n",
    "      cmap='RdBu',\n",
    "      vmin=-vbar, vmax=vbar\n",
    "  )\n",
    "  plt.colorbar()\n",
    "  plt.contour(\n",
    "      grid.coordinate_vectors[1],\n",
    "      grid.coordinate_vectors[0],\n",
    "      values[ki, ti],\n",
    "      levels=0,\n",
    "      colors='k'\n",
    "  )\n",
    "  plt.contour(\n",
    "      grid.coordinate_vectors[1],\n",
    "      grid.coordinate_vectors[0],\n",
    "      failure_values,\n",
    "      levels=0,\n",
    "      colors='r'\n",
    "  )\n",
    "  plt.show()\n",
    "\n",
    "interact(\n",
    "    plot_value_function,\n",
    "    k=FloatSlider(value=12., min=6., max=12., step=0.6),\n",
    "    t=FloatSlider(value=0., min=-5., max=0., step=0.5)\n",
    ")"
   ]
  }
 ],
 "metadata": {
  "kernelspec": {
   "display_name": "safe-env2",
   "language": "python",
   "name": "python3"
  },
  "language_info": {
   "codemirror_mode": {
    "name": "ipython",
    "version": 3
   },
   "file_extension": ".py",
   "mimetype": "text/x-python",
   "name": "python",
   "nbconvert_exporter": "python",
   "pygments_lexer": "ipython3",
   "version": "-1.-1.-1"
  }
 },
 "nbformat": 4,
 "nbformat_minor": 5
}
